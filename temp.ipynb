{
 "cells": [
  {
   "cell_type": "code",
   "execution_count": 14,
   "metadata": {},
   "outputs": [
    {
     "name": "stdout",
     "output_type": "stream",
     "text": [
      "[1.06935648e-02 1.85502832e-01 1.23839858e-04 1.59844737e-02\n",
      " 5.88940587e-01 1.76609594e-01 4.66373612e-04 9.02099201e-03\n",
      " 1.90626889e-03 1.07514747e-02] 1.0000000000000002\n"
     ]
    }
   ],
   "source": [
    "import numpy as np\n",
    "\n",
    "beta = 0.4\n",
    "n_parties = 10\n",
    "\n",
    "proportions = np.random.dirichlet(np.repeat(beta, n_parties))\n",
    "print(proportions, np.sum(proportions))"
   ]
  },
  {
   "cell_type": "code",
   "execution_count": 18,
   "metadata": {},
   "outputs": [
    {
     "name": "stdout",
     "output_type": "stream",
     "text": [
      "[[], [], [], [], [], [], [], [], [], []]\n",
      "<zip object at 0x0000021535934D80>\n",
      "[0.31009134 0.04233154 0.13810029 0.10126737 0.00378196 0.06942486\n",
      " 0.02088922 0.28386322 0.00045597 0.02979422] 0.9999999999999999\n"
     ]
    }
   ],
   "source": [
    "N = 100\n",
    "beta = 0.4\n",
    "n_parties = 10\n",
    "\n",
    "\n",
    "idx_batch = [[] for _ in range(n_parties)]\n",
    "print(idx_batch)\n",
    "proportions = np.random.dirichlet(np.repeat(beta, n_parties))\n",
    "\n",
    "print(zip(proportions, idx_batch))\n",
    "proportions = np.array([p * (len(idx_j) < N / n_parties) for p, idx_j in zip(proportions, idx_batch)])\n",
    "\n",
    "print(proportions, np.sum(proportions))"
   ]
  },
  {
   "cell_type": "code",
   "execution_count": 19,
   "metadata": {},
   "outputs": [
    {
     "data": {
      "text/plain": [
       "[1, 2]"
      ]
     },
     "execution_count": 19,
     "metadata": {},
     "output_type": "execute_result"
    }
   ],
   "source": [
    "[1]+[2]"
   ]
  },
  {
   "cell_type": "code",
   "execution_count": 21,
   "metadata": {},
   "outputs": [
    {
     "data": {
      "text/plain": [
       "0"
      ]
     },
     "execution_count": 21,
     "metadata": {},
     "output_type": "execute_result"
    }
   ],
   "source": [
    "100%10"
   ]
  }
 ],
 "metadata": {
  "kernelspec": {
   "display_name": "base",
   "language": "python",
   "name": "python3"
  },
  "language_info": {
   "codemirror_mode": {
    "name": "ipython",
    "version": 3
   },
   "file_extension": ".py",
   "mimetype": "text/x-python",
   "name": "python",
   "nbconvert_exporter": "python",
   "pygments_lexer": "ipython3",
   "version": "3.10.9"
  },
  "orig_nbformat": 4
 },
 "nbformat": 4,
 "nbformat_minor": 2
}
